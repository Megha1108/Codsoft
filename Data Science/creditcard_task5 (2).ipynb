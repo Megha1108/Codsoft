{
 "cells": [
  {
   "cell_type": "code",
   "execution_count": null,
   "id": "65ce8ed3",
   "metadata": {},
   "outputs": [],
   "source": [
    "\"\"\"\n",
    " Build a machine learning model to identify fraudulent credit card\n",
    " transactions.\n",
    " Preprocess and normalize the transaction data, handle class\n",
    " imbalance issues, and split the dataset into training and testing sets.\n",
    " Train a classification algorithm, such as logistic regression or random\n",
    " forests, to classify transactions as fraudulent or genuine.\n",
    " Evaluate the model's performance using metrics like precision, recall,\n",
    " and F1-score, and consider techniques like oversampling or\n",
    " undersampling for improving results\n",
    " \n",
    "\"\"\""
   ]
  },
  {
   "cell_type": "code",
   "execution_count": null,
   "id": "aa0f6225",
   "metadata": {},
   "outputs": [],
   "source": [
    "import pandas as pd\n",
    "import seaborn as sns\n",
    "import matplotlib.pyplot as plt\n",
    "import numpy as np"
   ]
  },
  {
   "cell_type": "code",
   "execution_count": null,
   "id": "44b87d23",
   "metadata": {},
   "outputs": [],
   "source": [
    "credit_data = pd.read_csv(\"creditcard.csv\")"
   ]
  },
  {
   "cell_type": "code",
   "execution_count": null,
   "id": "2a751cea",
   "metadata": {},
   "outputs": [],
   "source": [
    "credit_data.head()"
   ]
  },
  {
   "cell_type": "code",
   "execution_count": null,
   "id": "3c2aef23",
   "metadata": {},
   "outputs": [],
   "source": [
    "credit_data.tail()"
   ]
  },
  {
   "cell_type": "code",
   "execution_count": null,
   "id": "4770de0a",
   "metadata": {},
   "outputs": [],
   "source": [
    "credit_data.shape"
   ]
  },
  {
   "cell_type": "code",
   "execution_count": null,
   "id": "bb00c65f",
   "metadata": {},
   "outputs": [],
   "source": [
    "credit_data.info()"
   ]
  },
  {
   "cell_type": "code",
   "execution_count": null,
   "id": "ead21add",
   "metadata": {},
   "outputs": [],
   "source": [
    "#checking null values\n",
    "credit_data.isnull().sum()"
   ]
  },
  {
   "cell_type": "code",
   "execution_count": null,
   "id": "7d7be673",
   "metadata": {},
   "outputs": [],
   "source": [
    "credit_data.describe()"
   ]
  },
  {
   "cell_type": "markdown",
   "id": "5e406f5d",
   "metadata": {},
   "source": [
    "# data analysis "
   ]
  },
  {
   "cell_type": "code",
   "execution_count": null,
   "id": "51f9ecae",
   "metadata": {},
   "outputs": [],
   "source": [
    "#columns in dataset\n",
    "credit_data.columns"
   ]
  },
  {
   "cell_type": "code",
   "execution_count": null,
   "id": "99789442",
   "metadata": {},
   "outputs": [],
   "source": [
    "#unique value in class columns\n",
    "credit_data.Class.unique()"
   ]
  },
  {
   "cell_type": "code",
   "execution_count": null,
   "id": "1bee72f4",
   "metadata": {},
   "outputs": [],
   "source": [
    "#class columns has two values i.e. 0 & 1 where 1 is fraud case and valid case"
   ]
  },
  {
   "cell_type": "code",
   "execution_count": null,
   "id": "5d3a9867",
   "metadata": {},
   "outputs": [],
   "source": [
    "fraud_case = credit_data[credit_data['Class'] == 1]\n",
    "valid_case = credit_data[credit_data['Class'] == 0]\n",
    "\n",
    "print(\"Number of fraud case:\", (len(fraud_case)))\n",
    "print(\"Number of valid case:\", (len(valid_case)))\n",
    "\n",
    "total = len(fraud_case) / len(valid_case)\n",
    "total"
   ]
  },
  {
   "cell_type": "code",
   "execution_count": null,
   "id": "77192d55",
   "metadata": {},
   "outputs": [],
   "source": [
    "#in percentage\n",
    "per = len(fraud_case) / len(credit_data['Class'])*100\n",
    "per"
   ]
  },
  {
   "cell_type": "code",
   "execution_count": null,
   "id": "19387f47",
   "metadata": {},
   "outputs": [],
   "source": [
    "#only 0.17% transactions are fraud"
   ]
  },
  {
   "cell_type": "markdown",
   "id": "780e27f7",
   "metadata": {},
   "source": [
    "# class distribution"
   ]
  },
  {
   "cell_type": "code",
   "execution_count": null,
   "id": "b85c8e18",
   "metadata": {},
   "outputs": [],
   "source": [
    "#count the number of occurences for each class (0 for legitimate, 1 for fraudulent)\n",
    "class_counts = credit_data['Class'].value_counts()\n",
    "\n",
    "#calculate the percentage of fraudulent transactions\n",
    "percentage_fraudulent  = (class_counts[1] / class_counts.sum())*100\n",
    "\n",
    "plt.figure(figsize=(8,6))\n",
    "sns.countplot(x='Class', data=credit_data)\n",
    "plt.title(\"distribution of legitimate vs fraudulent transactions\")\n",
    "plt.xlabel(\"Class (0: legitimate, 1: fraudulent)\")\n",
    "plt.ylabel(\"Count\")\n",
    "\n",
    "#display thr percentage of fraudulent transactions on the plot\n",
    "plt.text(0, class_counts[0] + 1000, 'percentage of fraudulent transactions: {:.2f}%'.format(percentage_fraudulent), fontsize=12, ha='center')\n",
    "\n",
    "plt.show()"
   ]
  },
  {
   "cell_type": "code",
   "execution_count": null,
   "id": "9d4777ed",
   "metadata": {},
   "outputs": [],
   "source": [
    "plt.figure(figsize=(10,6))\n",
    "sns.histplot(credit_data['Time'], bins=48, kde=True)\n",
    "plt.title(\"transaction time distribution\")\n",
    "plt.xlabel(\"Time in sec\")\n",
    "plt.ylabel(\"Count\")\n",
    "\n",
    "#check if there are specific times of day when fraud is more likely to occur\n",
    "plt.figure(figsize=(10,6))\n",
    "sns.histplot(credit_data[credit_data['Class'] == 1]['Time'], bins=48, kde=True, color='red', label='Fraudulent')\n",
    "sns.histplot(credit_data[credit_data['Class'] == 0]['Time'], bins=48, kde=True, color='blue', label='Legitimate')\n",
    "plt.title(\"fraud vs legitimate transaction time distribution\")\n",
    "plt.xlabel(\"Time in sec\")\n",
    "plt.ylabel(\"Count\")\n",
    "plt.legend()\n",
    "\n",
    "plt.show()"
   ]
  },
  {
   "cell_type": "markdown",
   "id": "855ac8a0",
   "metadata": {},
   "source": [
    "# transaction amount analysis"
   ]
  },
  {
   "cell_type": "code",
   "execution_count": null,
   "id": "311d8100",
   "metadata": {},
   "outputs": [],
   "source": [
    "#calculate summary statistics for both groups\n",
    "legitimate_transactions = credit_data[credit_data['Class'] == 0]\n",
    "legitimate_summary = legitimate_transactions.describe()\n",
    "\n",
    "fraudulent_transactions = credit_data[credit_data['Class'] == 1]\n",
    "fraudulent_summary = fraudulent_transactions.describe()\n",
    "\n",
    "print(\"summary statistics for legitimate transactions: \")\n",
    "print(legitimate_summary)\n",
    "print(\"\\nsummary statistics for fraudulent transactions: \")\n",
    "print(fraudulent_summary)"
   ]
  },
  {
   "cell_type": "code",
   "execution_count": null,
   "id": "ed1c6d4e",
   "metadata": {},
   "outputs": [],
   "source": [
    "#separate data fro legitimate and fraudulent transactions\n",
    "legitimate_transactions = credit_data[credit_data['Class'] == 0]['Amount']\n",
    "fraudulent_transactions = credit_data[credit_data['Class'] == 1]['Amount']\n",
    "\n",
    "plt.figure(figsize=(12,6))\n",
    "sns.histplot(legitimate_transactions, color='blue', kde=True, label='legitimate transactions', bins=50)\n",
    "sns.histplot(fraudulent_transactions, color='red', kde=True, label='fraudulent transactions', bins=50)\n",
    "\n",
    "plt.title('transaction amount distribution comparison')\n",
    "plt.xlabel('transaction amount')\n",
    "plt.ylabel('frequency')\n",
    "plt.legend()\n",
    "\n",
    "plt.show()"
   ]
  },
  {
   "cell_type": "code",
   "execution_count": null,
   "id": "284afc63",
   "metadata": {},
   "outputs": [],
   "source": [
    "#calculate the correlation matrix\n",
    "correlation_matrix = credit_data.corr()\n",
    "print(correlation_matrix)\n",
    "\n",
    "#filter the correlations of features with the target variable('Class')\n",
    "feature_correlations = correlation_matrix['Class'].drop('Class')\n",
    "print(feature_correlations)\n",
    "\n",
    "correlation_threshold = 0.1\n",
    "\n",
    "highly_correlated_features = feature_correlations[abs(feature_correlations) > correlation_threshold]\n",
    "\n",
    "plt.figure(figsize=(12,6))\n",
    "sns.barplot(x=highly_correlated_features.index, y=highly_correlated_features.values, palette='magma')\n",
    "plt.title('Feature Correlations with Fraud (Class)')\n",
    "plt.xlabel('Features')\n",
    "plt.ylabel('Correlation')\n",
    "plt.xticks(rotation=45)\n",
    "plt.show()\n"
   ]
  },
  {
   "cell_type": "code",
   "execution_count": null,
   "id": "1a131af5",
   "metadata": {},
   "outputs": [],
   "source": [
    "plt.figure(figsize=(10,6))\n",
    "sns.scatterplot(x=credit_data['Time'], y=credit_data['Amount'], hue=credit_data['Class'], palette='coolwarm', alpha=0.5)\n",
    "plt.title('Transaction Amount vs Time')\n",
    "plt.xlabel('Time (seconds)')\n",
    "plt.ylabel('Amount')\n",
    "plt.show()"
   ]
  },
  {
   "cell_type": "code",
   "execution_count": null,
   "id": "98f22819",
   "metadata": {},
   "outputs": [],
   "source": [
    "#visualize heatmap for correlation matrix between features\n",
    "correlation_matrix = credit_data.corr()\n",
    "plt.figure(figsize=(12,10))\n",
    "sns.heatmap(correlation_matrix, cmap='coolwarm', annot=False, fmt=\".2f\", linewidths=0.5)\n",
    "plt.title('Correlation heatmap between features')\n",
    "plt.show()"
   ]
  },
  {
   "cell_type": "markdown",
   "id": "ade0b9fd",
   "metadata": {},
   "source": [
    "# developing model"
   ]
  },
  {
   "cell_type": "code",
   "execution_count": null,
   "id": "57bb83ae",
   "metadata": {},
   "outputs": [],
   "source": [
    "#import libraries\n",
    "from sklearn.model_selection import train_test_split\n",
    "from sklearn.ensemble import RandomForestClassifier\n",
    "from sklearn.metrics import (accuracy_score, precision_score, recall_score,f1_score, classification_report, confusion_matrix)"
   ]
  },
  {
   "cell_type": "code",
   "execution_count": null,
   "id": "57af2979",
   "metadata": {},
   "outputs": [],
   "source": [
    "X = credit_data.drop(['Class'], axis=1)\n",
    "Y = credit_data['Class']\n",
    "\n",
    "print(f\"vlaue and shapes :\", [X.values, X.shape])\n",
    "print(f\"vlaue and shapes :\", [Y.values, Y.shape])"
   ]
  },
  {
   "cell_type": "code",
   "execution_count": null,
   "id": "12feecdd",
   "metadata": {},
   "outputs": [],
   "source": [
    "X_train, X_test, Y_train, Y_test = train_test_split(X,Y,test_size = 0.2, random_state = 42)"
   ]
  },
  {
   "cell_type": "code",
   "execution_count": null,
   "id": "ab457cef",
   "metadata": {},
   "outputs": [],
   "source": [
    "model = RandomForestClassifier(n_estimators = 100, random_state = 42)\n",
    "model.fit(X_train,Y_train)\n",
    "y_pred = model.predict(X_test)"
   ]
  },
  {
   "cell_type": "code",
   "execution_count": null,
   "id": "10572dd6",
   "metadata": {},
   "outputs": [],
   "source": [
    "print(y_pred)\n",
    "print(Y_test)"
   ]
  },
  {
   "cell_type": "code",
   "execution_count": null,
   "id": "fe42e4d1",
   "metadata": {},
   "outputs": [],
   "source": []
  }
 ],
 "metadata": {
  "kernelspec": {
   "display_name": "Python 3 (ipykernel)",
   "language": "python",
   "name": "python3"
  },
  "language_info": {
   "codemirror_mode": {
    "name": "ipython",
    "version": 3
   },
   "file_extension": ".py",
   "mimetype": "text/x-python",
   "name": "python",
   "nbconvert_exporter": "python",
   "pygments_lexer": "ipython3",
   "version": "3.11.5"
  }
 },
 "nbformat": 4,
 "nbformat_minor": 5
}
